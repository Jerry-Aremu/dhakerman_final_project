{
 "cells": [
  {
   "cell_type": "markdown",
   "id": "4808a7da",
   "metadata": {},
   "source": [
    "<div style = \"text-align: left\"><font size = 8 color = \"#B22222\" face = \"verdana\"><b>Data Hackerman Purple Zone</b></font></div>\n",
    "<div style = \"text-align: left\"><font size = 6 color = \"#00008B\" face = \"verdana\"><b>API access</b></font></div>\n",
    "<div style = \"text-align: leftt\"><font><i>By Jerry Aremu</i></font></div>\n",
    "<div style = \"text-align: leftt\"><font>28th April 2023</font></div>\n"
   ]
  },
  {
   "cell_type": "markdown",
   "id": "32abd216",
   "metadata": {},
   "source": [
    "#### import required libraries"
   ]
  },
  {
   "cell_type": "code",
   "execution_count": 3,
   "id": "5a74c928",
   "metadata": {},
   "outputs": [],
   "source": [
    "import pandas as pd\n",
    "import numpy as np\n",
    "import warnings\n",
    "import requests"
   ]
  },
  {
   "cell_type": "markdown",
   "id": "0fb211be",
   "metadata": {},
   "source": [
    "#### Noteook custom settings"
   ]
  },
  {
   "cell_type": "code",
   "execution_count": 6,
   "id": "90569dd7",
   "metadata": {},
   "outputs": [
    {
     "data": {
      "text/html": [
       "<style>.container { width:100% !important; }</style>"
      ],
      "text/plain": [
       "<IPython.core.display.HTML object>"
      ]
     },
     "metadata": {},
     "output_type": "display_data"
    }
   ],
   "source": [
    "warnings.simplefilter(action='ignore', category=RuntimeWarning)\n",
    "warnings.simplefilter(action='ignore', category=FutureWarning)\n",
    "warnings.simplefilter(action='ignore', category=UserWarning)\n",
    "warnings.simplefilter(action='ignore', category=DeprecationWarning)\n",
    "pd.set_option(\"display.max_columns\", None)\n",
    "pd.set_option(\"display.max_rows\", None)\n",
    "pd.options.display.max_colwidth = None\n",
    "pd.set_option(\"display.float_format\", lambda x: '%.2f' % x)\n",
    "from IPython.display import display, HTML\n",
    "display(HTML(\"<style>.container { width:100% !important; }</style>\"))"
   ]
  },
  {
   "cell_type": "markdown",
   "id": "69525bae",
   "metadata": {},
   "source": [
    "```api documentation page``` __[API_documentation](https://anapioficeandfire.com/Documentation)__"
   ]
  },
  {
   "cell_type": "markdown",
   "id": "1083aa7a",
   "metadata": {},
   "source": [
    "__API Access__\n",
    "\n",
    "This challenge will involve querying an API and extracting information from it. The API in question provides information on Game of Thrones, allowing one to access information on the houses, characters and books.\n",
    "\n",
    "* API URL: http://anapioficeandfire.com/api/{SECTION}/{INDEX\n",
    "\n",
    "Where SECTION can be either ‘books’, ‘characters’, or ‘houses’ and INDEX is an integer to a certain entry in a section.\n",
    "\n",
    "For example, to access the character Peter Baelish, the full request would be http://anapioficeandfire.com/api/characters/823, where 823 is the index corresponding to that character. \n",
    "\n",
    "It's recommended to read the full documentation, which can be found here: https://anapioficeandfire.com/Documentation\n",
    "\n",
    "We would like you to answer the following:\n",
    "\n",
    "a) What index corresponds to the house “House Breakstone”?\n",
    " \n",
    "b) How many males, females and unknown genders are there in the first 40 characters? Note, index 0 does not correspond to a character, so full range is 1 - 40 both ends inclusive. \n",
    "\n",
    "c) How many books can be accessed from this API?\n",
    "\n",
    "d) How many books does the character ‘High Septon’ appear in? (ignoring ‘povcharacters’) \n",
    "\n",
    "Hint: index value of Septon needs to be found first; it is smaller than 20.\n"
   ]
  },
  {
   "cell_type": "code",
   "execution_count": 10,
   "id": "3cd3a949",
   "metadata": {},
   "outputs": [
    {
     "data": {
      "text/plain": [
       "{'books': 'https://www.anapioficeandfire.com/api/books',\n",
       " 'characters': 'https://www.anapioficeandfire.com/api/characters',\n",
       " 'houses': 'https://www.anapioficeandfire.com/api/houses'}"
      ]
     },
     "execution_count": 10,
     "metadata": {},
     "output_type": "execute_result"
    }
   ],
   "source": [
    "api_curl = \"https://www.anapioficeandfire.com/api\"\n",
    "api_json = requests.get(api_curl).json()\n",
    "api_json"
   ]
  },
  {
   "cell_type": "markdown",
   "id": "cd6881c5",
   "metadata": {},
   "source": [
    "#### Extract information from the three links above houses, books and character"
   ]
  },
  {
   "cell_type": "code",
   "execution_count": 14,
   "id": "42a8ecf6",
   "metadata": {},
   "outputs": [],
   "source": [
    "base_url =\"https://www.anapioficeandfire.com/api/books\"\n",
    "books = []\n",
    "\n",
    "#The API returns 50 record per page hence we keep fetching till we get all records\n",
    "\n",
    "while True:\n",
    "    response = requests.get(base_url)\n",
    "    if response.status_code !=200:\n",
    "        print(\"Failed to retrieve data\")\n",
    "        break\n",
    "    \n",
    "    results = response.json()\n",
    "    books.extend(results) \n",
    "    next_url = response.headers.get(\"Link\")\n",
    "    \n",
    "    if not next_url or \"rel='next'\" not in next_url:\n",
    "        break\n",
    "    next_url = next_url.split(';')[0][1:-1]\n",
    "    base_url = next_url"
   ]
  },
  {
   "cell_type": "code",
   "execution_count": 15,
   "id": "691205fb",
   "metadata": {},
   "outputs": [
    {
     "data": {
      "text/plain": [
       "'<https://www.anapioficeandfire.com/api/books?page=2&pageSize=10>; rel=\"next\", <https://www.anapioficeandfire.com/api/books?page=1&pageSize=10>; rel=\"first\", <https://www.anapioficeandfire.com/api/books?page=2&pageSize=10>; rel=\"last\"'"
      ]
     },
     "execution_count": 15,
     "metadata": {},
     "output_type": "execute_result"
    }
   ],
   "source": [
    "next_url"
   ]
  },
  {
   "cell_type": "code",
   "execution_count": 1,
   "id": "94a822bd",
   "metadata": {
    "scrolled": false
   },
   "outputs": [],
   "source": [
    "#pd.read_books"
   ]
  },
  {
   "cell_type": "markdown",
   "id": "cbbfb6e3",
   "metadata": {},
   "source": [
    "#### Ingest Book_data"
   ]
  },
  {
   "cell_type": "code",
   "execution_count": 4,
   "id": "99a832fc",
   "metadata": {},
   "outputs": [
    {
     "name": "stdout",
     "output_type": "stream",
     "text": [
      "Status code:200\n"
     ]
    }
   ],
   "source": [
    "url_book = \"https://www.anapioficeandfire.com/api/books\"\n",
    "book_data = requests.get(url_book)\n",
    "print(f\"Status code:{book_data.status_code}\")"
   ]
  },
  {
   "cell_type": "code",
   "execution_count": 5,
   "id": "69941c90",
   "metadata": {},
   "outputs": [
    {
     "data": {
      "text/html": [
       "<div>\n",
       "<style scoped>\n",
       "    .dataframe tbody tr th:only-of-type {\n",
       "        vertical-align: middle;\n",
       "    }\n",
       "\n",
       "    .dataframe tbody tr th {\n",
       "        vertical-align: top;\n",
       "    }\n",
       "\n",
       "    .dataframe thead th {\n",
       "        text-align: right;\n",
       "    }\n",
       "</style>\n",
       "<table border=\"1\" class=\"dataframe\">\n",
       "  <thead>\n",
       "    <tr style=\"text-align: right;\">\n",
       "      <th></th>\n",
       "      <th>url</th>\n",
       "      <th>name</th>\n",
       "      <th>isbn</th>\n",
       "      <th>authors</th>\n",
       "      <th>numberOfPages</th>\n",
       "      <th>publisher</th>\n",
       "      <th>country</th>\n",
       "      <th>mediaType</th>\n",
       "      <th>released</th>\n",
       "      <th>characters</th>\n",
       "      <th>povCharacters</th>\n",
       "    </tr>\n",
       "  </thead>\n",
       "  <tbody>\n",
       "    <tr>\n",
       "      <th>0</th>\n",
       "      <td>https://www.anapioficeandfire.com/api/books/1</td>\n",
       "      <td>A Game of Thrones</td>\n",
       "      <td>978-0553103540</td>\n",
       "      <td>[George R. R. Martin]</td>\n",
       "      <td>694</td>\n",
       "      <td>Bantam Books</td>\n",
       "      <td>United States</td>\n",
       "      <td>Hardcover</td>\n",
       "      <td>1996-08-01T00:00:00</td>\n",
       "      <td>[https://www.anapioficeandfire.com/api/charact...</td>\n",
       "      <td>[https://www.anapioficeandfire.com/api/charact...</td>\n",
       "    </tr>\n",
       "    <tr>\n",
       "      <th>1</th>\n",
       "      <td>https://www.anapioficeandfire.com/api/books/2</td>\n",
       "      <td>A Clash of Kings</td>\n",
       "      <td>978-0553108033</td>\n",
       "      <td>[George R. R. Martin]</td>\n",
       "      <td>768</td>\n",
       "      <td>Bantam Books</td>\n",
       "      <td>United States</td>\n",
       "      <td>Hardback</td>\n",
       "      <td>1999-02-02T00:00:00</td>\n",
       "      <td>[https://www.anapioficeandfire.com/api/charact...</td>\n",
       "      <td>[https://www.anapioficeandfire.com/api/charact...</td>\n",
       "    </tr>\n",
       "  </tbody>\n",
       "</table>\n",
       "</div>"
      ],
      "text/plain": [
       "                                             url               name  \\\n",
       "0  https://www.anapioficeandfire.com/api/books/1  A Game of Thrones   \n",
       "1  https://www.anapioficeandfire.com/api/books/2   A Clash of Kings   \n",
       "\n",
       "             isbn                authors  numberOfPages     publisher  \\\n",
       "0  978-0553103540  [George R. R. Martin]            694  Bantam Books   \n",
       "1  978-0553108033  [George R. R. Martin]            768  Bantam Books   \n",
       "\n",
       "         country  mediaType             released  \\\n",
       "0  United States  Hardcover  1996-08-01T00:00:00   \n",
       "1  United States   Hardback  1999-02-02T00:00:00   \n",
       "\n",
       "                                          characters  \\\n",
       "0  [https://www.anapioficeandfire.com/api/charact...   \n",
       "1  [https://www.anapioficeandfire.com/api/charact...   \n",
       "\n",
       "                                       povCharacters  \n",
       "0  [https://www.anapioficeandfire.com/api/charact...  \n",
       "1  [https://www.anapioficeandfire.com/api/charact...  "
      ]
     },
     "execution_count": 5,
     "metadata": {},
     "output_type": "execute_result"
    }
   ],
   "source": [
    "book_data_df = pd.DataFrame(book_data.json())\n",
    "book_data_df.head(2)"
   ]
  },
  {
   "cell_type": "markdown",
   "id": "84340b89",
   "metadata": {},
   "source": [
    "#### Ingest Character_data"
   ]
  },
  {
   "cell_type": "code",
   "execution_count": 7,
   "id": "fa16660b",
   "metadata": {},
   "outputs": [
    {
     "name": "stdout",
     "output_type": "stream",
     "text": [
      "Status code:200\n"
     ]
    }
   ],
   "source": [
    "url_char = \"https://www.anapioficeandfire.com/api/characters\"\n",
    "char_data = requests.get(url_char)\n",
    "print(f\"Status code:{char_data.status_code}\")"
   ]
  },
  {
   "cell_type": "code",
   "execution_count": 9,
   "id": "08b902e3",
   "metadata": {},
   "outputs": [
    {
     "data": {
      "text/html": [
       "<div>\n",
       "<style scoped>\n",
       "    .dataframe tbody tr th:only-of-type {\n",
       "        vertical-align: middle;\n",
       "    }\n",
       "\n",
       "    .dataframe tbody tr th {\n",
       "        vertical-align: top;\n",
       "    }\n",
       "\n",
       "    .dataframe thead th {\n",
       "        text-align: right;\n",
       "    }\n",
       "</style>\n",
       "<table border=\"1\" class=\"dataframe\">\n",
       "  <thead>\n",
       "    <tr style=\"text-align: right;\">\n",
       "      <th></th>\n",
       "      <th>url</th>\n",
       "      <th>name</th>\n",
       "      <th>gender</th>\n",
       "      <th>culture</th>\n",
       "      <th>born</th>\n",
       "      <th>died</th>\n",
       "      <th>titles</th>\n",
       "      <th>aliases</th>\n",
       "      <th>father</th>\n",
       "      <th>mother</th>\n",
       "      <th>spouse</th>\n",
       "      <th>allegiances</th>\n",
       "      <th>books</th>\n",
       "      <th>povBooks</th>\n",
       "      <th>tvSeries</th>\n",
       "      <th>playedBy</th>\n",
       "    </tr>\n",
       "  </thead>\n",
       "  <tbody>\n",
       "    <tr>\n",
       "      <th>0</th>\n",
       "      <td>https://www.anapioficeandfire.com/api/characte...</td>\n",
       "      <td></td>\n",
       "      <td>Female</td>\n",
       "      <td>Braavosi</td>\n",
       "      <td></td>\n",
       "      <td></td>\n",
       "      <td>[]</td>\n",
       "      <td>[The Daughter of the Dusk]</td>\n",
       "      <td></td>\n",
       "      <td></td>\n",
       "      <td></td>\n",
       "      <td>[]</td>\n",
       "      <td>[https://www.anapioficeandfire.com/api/books/5]</td>\n",
       "      <td>[]</td>\n",
       "      <td>[]</td>\n",
       "      <td>[]</td>\n",
       "    </tr>\n",
       "    <tr>\n",
       "      <th>1</th>\n",
       "      <td>https://www.anapioficeandfire.com/api/characte...</td>\n",
       "      <td>Walder</td>\n",
       "      <td>Male</td>\n",
       "      <td></td>\n",
       "      <td></td>\n",
       "      <td></td>\n",
       "      <td>[]</td>\n",
       "      <td>[Hodor]</td>\n",
       "      <td></td>\n",
       "      <td></td>\n",
       "      <td></td>\n",
       "      <td>[https://www.anapioficeandfire.com/api/houses/...</td>\n",
       "      <td>[https://www.anapioficeandfire.com/api/books/1...</td>\n",
       "      <td>[]</td>\n",
       "      <td>[Season 1, Season 2, Season 3, Season 4, Seaso...</td>\n",
       "      <td>[Kristian Nairn]</td>\n",
       "    </tr>\n",
       "  </tbody>\n",
       "</table>\n",
       "</div>"
      ],
      "text/plain": [
       "                                                 url    name  gender  \\\n",
       "0  https://www.anapioficeandfire.com/api/characte...          Female   \n",
       "1  https://www.anapioficeandfire.com/api/characte...  Walder    Male   \n",
       "\n",
       "    culture born died titles                     aliases father mother spouse  \\\n",
       "0  Braavosi               []  [The Daughter of the Dusk]                        \n",
       "1                         []                     [Hodor]                        \n",
       "\n",
       "                                         allegiances  \\\n",
       "0                                                 []   \n",
       "1  [https://www.anapioficeandfire.com/api/houses/...   \n",
       "\n",
       "                                               books povBooks  \\\n",
       "0    [https://www.anapioficeandfire.com/api/books/5]       []   \n",
       "1  [https://www.anapioficeandfire.com/api/books/1...       []   \n",
       "\n",
       "                                            tvSeries          playedBy  \n",
       "0                                                 []                []  \n",
       "1  [Season 1, Season 2, Season 3, Season 4, Seaso...  [Kristian Nairn]  "
      ]
     },
     "execution_count": 9,
     "metadata": {},
     "output_type": "execute_result"
    }
   ],
   "source": [
    "char_data_df = pd.DataFrame(char_data.json())\n",
    "char_data_df.head(2)"
   ]
  },
  {
   "cell_type": "markdown",
   "id": "6d878c77",
   "metadata": {},
   "source": [
    "#### Ingest House_data"
   ]
  },
  {
   "cell_type": "code",
   "execution_count": 6,
   "id": "f66f00bd",
   "metadata": {},
   "outputs": [
    {
     "name": "stdout",
     "output_type": "stream",
     "text": [
      "Status code:200\n"
     ]
    }
   ],
   "source": [
    "url_house = \"https://www.anapioficeandfire.com/api/houses\"\n",
    "house_data = requests.get(url_house)\n",
    "print(f\"Status code:{house_data.status_code}\")"
   ]
  },
  {
   "cell_type": "code",
   "execution_count": 8,
   "id": "92d9e5c6",
   "metadata": {},
   "outputs": [
    {
     "data": {
      "text/html": [
       "<div>\n",
       "<style scoped>\n",
       "    .dataframe tbody tr th:only-of-type {\n",
       "        vertical-align: middle;\n",
       "    }\n",
       "\n",
       "    .dataframe tbody tr th {\n",
       "        vertical-align: top;\n",
       "    }\n",
       "\n",
       "    .dataframe thead th {\n",
       "        text-align: right;\n",
       "    }\n",
       "</style>\n",
       "<table border=\"1\" class=\"dataframe\">\n",
       "  <thead>\n",
       "    <tr style=\"text-align: right;\">\n",
       "      <th></th>\n",
       "      <th>url</th>\n",
       "      <th>name</th>\n",
       "      <th>region</th>\n",
       "      <th>coatOfArms</th>\n",
       "      <th>words</th>\n",
       "      <th>titles</th>\n",
       "      <th>seats</th>\n",
       "      <th>currentLord</th>\n",
       "      <th>heir</th>\n",
       "      <th>overlord</th>\n",
       "      <th>founded</th>\n",
       "      <th>founder</th>\n",
       "      <th>diedOut</th>\n",
       "      <th>ancestralWeapons</th>\n",
       "      <th>cadetBranches</th>\n",
       "      <th>swornMembers</th>\n",
       "    </tr>\n",
       "  </thead>\n",
       "  <tbody>\n",
       "    <tr>\n",
       "      <th>0</th>\n",
       "      <td>https://www.anapioficeandfire.com/api/houses/1</td>\n",
       "      <td>House Algood</td>\n",
       "      <td>The Westerlands</td>\n",
       "      <td>A golden wreath, on a blue field with a gold b...</td>\n",
       "      <td></td>\n",
       "      <td>[]</td>\n",
       "      <td>[]</td>\n",
       "      <td></td>\n",
       "      <td></td>\n",
       "      <td>https://www.anapioficeandfire.com/api/houses/229</td>\n",
       "      <td></td>\n",
       "      <td></td>\n",
       "      <td></td>\n",
       "      <td>[]</td>\n",
       "      <td>[]</td>\n",
       "      <td>[]</td>\n",
       "    </tr>\n",
       "    <tr>\n",
       "      <th>1</th>\n",
       "      <td>https://www.anapioficeandfire.com/api/houses/2</td>\n",
       "      <td>House Allyrion of Godsgrace</td>\n",
       "      <td>Dorne</td>\n",
       "      <td>Gyronny Gules and Sable, a hand couped Or</td>\n",
       "      <td>No Foe May Pass</td>\n",
       "      <td>[]</td>\n",
       "      <td>[Godsgrace]</td>\n",
       "      <td>https://www.anapioficeandfire.com/api/characte...</td>\n",
       "      <td>https://www.anapioficeandfire.com/api/characte...</td>\n",
       "      <td>https://www.anapioficeandfire.com/api/houses/285</td>\n",
       "      <td></td>\n",
       "      <td></td>\n",
       "      <td></td>\n",
       "      <td>[]</td>\n",
       "      <td>[]</td>\n",
       "      <td>[https://www.anapioficeandfire.com/api/charact...</td>\n",
       "    </tr>\n",
       "  </tbody>\n",
       "</table>\n",
       "</div>"
      ],
      "text/plain": [
       "                                              url  \\\n",
       "0  https://www.anapioficeandfire.com/api/houses/1   \n",
       "1  https://www.anapioficeandfire.com/api/houses/2   \n",
       "\n",
       "                          name           region  \\\n",
       "0                 House Algood  The Westerlands   \n",
       "1  House Allyrion of Godsgrace            Dorne   \n",
       "\n",
       "                                          coatOfArms            words titles  \\\n",
       "0  A golden wreath, on a blue field with a gold b...                      []   \n",
       "1          Gyronny Gules and Sable, a hand couped Or  No Foe May Pass     []   \n",
       "\n",
       "         seats                                        currentLord  \\\n",
       "0           []                                                      \n",
       "1  [Godsgrace]  https://www.anapioficeandfire.com/api/characte...   \n",
       "\n",
       "                                                heir  \\\n",
       "0                                                      \n",
       "1  https://www.anapioficeandfire.com/api/characte...   \n",
       "\n",
       "                                           overlord founded founder diedOut  \\\n",
       "0  https://www.anapioficeandfire.com/api/houses/229                           \n",
       "1  https://www.anapioficeandfire.com/api/houses/285                           \n",
       "\n",
       "  ancestralWeapons cadetBranches  \\\n",
       "0               []            []   \n",
       "1               []            []   \n",
       "\n",
       "                                        swornMembers  \n",
       "0                                                 []  \n",
       "1  [https://www.anapioficeandfire.com/api/charact...  "
      ]
     },
     "execution_count": 8,
     "metadata": {},
     "output_type": "execute_result"
    }
   ],
   "source": [
    "house_data_df = pd.DataFrame(house_data.json())\n",
    "house_data_df.head(2)"
   ]
  },
  {
   "cell_type": "code",
   "execution_count": 19,
   "id": "0dcfe535",
   "metadata": {},
   "outputs": [],
   "source": [
    "def get_datframe(url):\n",
    "    \n",
    "    \"\"\"this function fetches custom data via the API based on the \n",
    "    constraints specified and return the data as a dataframe\"\"\"\n",
    "    \n",
    "    response = requests.get(url)\n",
    "    data = response.json()\n",
    "    data_df = pd.DataFrame(data)\n",
    "    return data_df"
   ]
  },
  {
   "cell_type": "markdown",
   "id": "9ac8091b",
   "metadata": {},
   "source": [
    "a). What index corresponds to the house “House Breakstone”?"
   ]
  },
  {
   "cell_type": "code",
   "execution_count": 28,
   "id": "d574ce18",
   "metadata": {},
   "outputs": [],
   "source": [
    "def getting_houses_index(name):\n",
    "    name_param = name={name}\n",
    "    house_url = f\"https://anapioficeandfire.com/api/houses/?name_param\"\n",
    "    url_response = requests.get(house_url)\n",
    "    final_data = url_response.json()\n",
    "    outcome_index = final_data[0]['url'].split('/')[-1]\n",
    "    return outcome_index"
   ]
  },
  {
   "cell_type": "code",
   "execution_count": 29,
   "id": "0513699b",
   "metadata": {},
   "outputs": [
    {
     "name": "stdout",
     "output_type": "stream",
     "text": [
      "The index corresponding to the house \"House Breakstone\" is: 1\n"
     ]
    }
   ],
   "source": [
    "print(f'The index corresponding to the house \"House Breakstone\" is: {getting_houses_index(\"House Breakstone\")}')"
   ]
  },
  {
   "cell_type": "markdown",
   "id": "4be91771",
   "metadata": {},
   "source": [
    "b). How many males, females and unknown genders are there in the first 40 characters? Note, index 0 does not correspond to a character, so full range is 1 - 40 both ends inclusive. "
   ]
  },
  {
   "cell_type": "code",
   "execution_count": 26,
   "id": "a86de73a",
   "metadata": {},
   "outputs": [],
   "source": [
    "gender_data_df = get_datframe(\"https://www.anapioficeandfire.com/api/characters?page=1&pageSize=40\")\n",
    "gender_data_df.head(2);"
   ]
  },
  {
   "cell_type": "code",
   "execution_count": 18,
   "id": "07cc9426",
   "metadata": {},
   "outputs": [
    {
     "data": {
      "text/plain": [
       "Male      26\n",
       "Female    14\n",
       "Name: gender, dtype: int64"
      ]
     },
     "execution_count": 18,
     "metadata": {},
     "output_type": "execute_result"
    }
   ],
   "source": [
    "gender_data_df['gender'].value_counts()"
   ]
  },
  {
   "cell_type": "markdown",
   "id": "b9c4ed21",
   "metadata": {},
   "source": [
    "c) How many books can be accessed from this API?"
   ]
  },
  {
   "cell_type": "code",
   "execution_count": 25,
   "id": "e5b7bae9",
   "metadata": {},
   "outputs": [
    {
     "name": "stdout",
     "output_type": "stream",
     "text": [
      "The total number of books accessible in the data is: 10\n"
     ]
    }
   ],
   "source": [
    "total_bk_df = get_datframe('https://www.anapioficeandfire.com/api/books')\n",
    "print(f\"The total number of books accessible in the data is: {len(total_bk_df)}\")\n",
    "total_bk_df.head(2);"
   ]
  },
  {
   "cell_type": "markdown",
   "id": "e61a2f07",
   "metadata": {},
   "source": [
    "d) How many books does the character ‘High Septon’ appear in? (ignoring ‘povcharacters’) "
   ]
  },
  {
   "cell_type": "code",
   "execution_count": 27,
   "id": "51ce3b7a",
   "metadata": {},
   "outputs": [
    {
     "data": {
      "text/html": [
       "<div>\n",
       "<style scoped>\n",
       "    .dataframe tbody tr th:only-of-type {\n",
       "        vertical-align: middle;\n",
       "    }\n",
       "\n",
       "    .dataframe tbody tr th {\n",
       "        vertical-align: top;\n",
       "    }\n",
       "\n",
       "    .dataframe thead th {\n",
       "        text-align: right;\n",
       "    }\n",
       "</style>\n",
       "<table border=\"1\" class=\"dataframe\">\n",
       "  <thead>\n",
       "    <tr style=\"text-align: right;\">\n",
       "      <th></th>\n",
       "      <th>url</th>\n",
       "      <th>name</th>\n",
       "      <th>gender</th>\n",
       "      <th>culture</th>\n",
       "      <th>born</th>\n",
       "      <th>died</th>\n",
       "      <th>titles</th>\n",
       "      <th>aliases</th>\n",
       "      <th>father</th>\n",
       "      <th>mother</th>\n",
       "      <th>spouse</th>\n",
       "      <th>allegiances</th>\n",
       "      <th>books</th>\n",
       "      <th>povBooks</th>\n",
       "      <th>tvSeries</th>\n",
       "      <th>playedBy</th>\n",
       "    </tr>\n",
       "  </thead>\n",
       "  <tbody>\n",
       "  </tbody>\n",
       "</table>\n",
       "</div>"
      ],
      "text/plain": [
       "Empty DataFrame\n",
       "Columns: [url, name, gender, culture, born, died, titles, aliases, father, mother, spouse, allegiances, books, povBooks, tvSeries, playedBy]\n",
       "Index: []"
      ]
     },
     "execution_count": 27,
     "metadata": {},
     "output_type": "execute_result"
    }
   ],
   "source": [
    "high_septon_df = char_data_df[char_data_df['name'] =='High Septon']\n",
    "high_septon_df.head(2)"
   ]
  },
  {
   "cell_type": "code",
   "execution_count": null,
   "id": "796b8d28",
   "metadata": {},
   "outputs": [],
   "source": []
  }
 ],
 "metadata": {
  "kernelspec": {
   "display_name": "Python 3 (ipykernel)",
   "language": "python",
   "name": "python3"
  },
  "language_info": {
   "codemirror_mode": {
    "name": "ipython",
    "version": 3
   },
   "file_extension": ".py",
   "mimetype": "text/x-python",
   "name": "python",
   "nbconvert_exporter": "python",
   "pygments_lexer": "ipython3",
   "version": "3.8.16"
  }
 },
 "nbformat": 4,
 "nbformat_minor": 5
}
